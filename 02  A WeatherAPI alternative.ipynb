{
 "cells": [
  {
   "cell_type": "code",
   "execution_count": 5,
   "id": "80c53f54-6a04-4de1-8dd5-4d83938d4781",
   "metadata": {},
   "outputs": [
    {
     "data": {
      "text/plain": [
       "'China'"
      ]
     },
     "execution_count": 5,
     "metadata": {},
     "output_type": "execute_result"
    }
   ],
   "source": [
    "import requests\n",
    "from pprint import pprint\n",
    "\n",
    "response1 = requests.get(\"https://geocoding-api.open-meteo.com/v1/search?name=shanghai&count=10&language=en&format=json\")\n",
    "data1 = response1.json()\n",
    "data1['results'][0]['country']\n"
   ]
  },
  {
   "cell_type": "code",
   "execution_count": 21,
   "id": "630b0f62-395b-4506-89d2-ad0e3059ee18",
   "metadata": {},
   "outputs": [
    {
     "name": "stdout",
     "output_type": "stream",
     "text": [
      "29.1\n",
      "33.9\n",
      "It feels 5 celsius degrees warmer.\n"
     ]
    }
   ],
   "source": [
    "response2 = requests.get(\"https://api.open-meteo.com/v1/forecast?latitude=31.2222&longitude=121.4581&current=temperature_2m,apparent_temperature\")\n",
    "data2 = response2.json()\n",
    "delta = data2['current']['temperature_2m']-data2['current']['apparent_temperature']\n",
    "print(data2['current']['temperature_2m'])\n",
    "print(data2['current']['apparent_temperature'])\n",
    "if delta < 0 :\n",
    "    print(\"It feels\",abs(round(delta)),\"celsius degrees warmer.\")\n",
    "if delta > 0 :\n",
    "    print(\"It feels\",abs(round(delta)),\"celsius degrees cooler.\")"
   ]
  },
  {
   "cell_type": "code",
   "execution_count": 22,
   "id": "c87a12a0-2f79-4d8e-bd10-855e372fe40f",
   "metadata": {},
   "outputs": [
    {
     "name": "stdout",
     "output_type": "stream",
     "text": [
      "The current temperature at Heathrow International Airport is 16.3 celsius\n"
     ]
    }
   ],
   "source": [
    "response3 = requests.get('https://api.open-meteo.com/v1/forecast?latitude=51.4712&longitude=-0.4565&current=temperature_2m')\n",
    "data3 = response3.json()\n",
    "print('The current temperature at Heathrow International Airport is',data3['current']['temperature_2m'],'celsius')"
   ]
  },
  {
   "cell_type": "code",
   "execution_count": 37,
   "id": "fda894b6-0ee0-4453-8122-de0a70c33a8d",
   "metadata": {},
   "outputs": [
    {
     "data": {
      "text/plain": [
       "['2025-07-24', '2025-07-25', '2025-07-26']"
      ]
     },
     "execution_count": 37,
     "metadata": {},
     "output_type": "execute_result"
    }
   ],
   "source": [
    "response4 = requests.get('https://api.open-meteo.com/v1/forecast?latitude=51.4712&longitude=-0.4565&dforecast_days=3&daily=temperature_2m_max,temperature_2m_min')\n",
    "data4 = response4.json()\n",
    "data4['daily']['time'][0:3]"
   ]
  },
  {
   "cell_type": "code",
   "execution_count": 41,
   "id": "1f1eaf81-d8b6-434e-940f-cf0bae31e929",
   "metadata": {},
   "outputs": [
    {
     "data": {
      "text/plain": [
       "[21.0, 26.4, 24.0]"
      ]
     },
     "execution_count": 41,
     "metadata": {},
     "output_type": "execute_result"
    }
   ],
   "source": [
    "response4 = requests.get('https://api.open-meteo.com/v1/forecast?latitude=51.4712&longitude=-0.4565&dforecast_days=3&daily=temperature_2m_max,temperature_2m_min')\n",
    "data4 = response4.json()\n",
    "data4['daily']['temperature_2m_max'][0:3]"
   ]
  },
  {
   "cell_type": "code",
   "execution_count": 61,
   "id": "32842dc4-4c96-48dc-9e2e-004c52e21661",
   "metadata": {},
   "outputs": [
    {
     "data": {
      "text/plain": [
       "'2025-07-25'"
      ]
     },
     "execution_count": 61,
     "metadata": {},
     "output_type": "execute_result"
    }
   ],
   "source": [
    "response4 = requests.get('https://api.open-meteo.com/v1/forecast?latitude=51.4712&longitude=-0.4565&dforecast_days=3&daily=temperature_2m_max,temperature_2m_min')\n",
    "data4 = response4.json()\n",
    "\n",
    "\n",
    "date_list=data4['daily']['time'][0:3]\n",
    "temp_list=data4['daily']['temperature_2m_max'][0:3]\n",
    "tempt_dict=dict(zip(date_list,temp_list))\n",
    "max(tempt_dict,key=tempt_dict.get)\n"
   ]
  },
  {
   "cell_type": "code",
   "execution_count": null,
   "id": "c115692f-5c89-412a-9bf8-be985051563d",
   "metadata": {},
   "outputs": [],
   "source": []
  }
 ],
 "metadata": {
  "kernelspec": {
   "display_name": "Python 3 (ipykernel)",
   "language": "python",
   "name": "python3"
  },
  "language_info": {
   "codemirror_mode": {
    "name": "ipython",
    "version": 3
   },
   "file_extension": ".py",
   "mimetype": "text/x-python",
   "name": "python",
   "nbconvert_exporter": "python",
   "pygments_lexer": "ipython3",
   "version": "3.11.8"
  }
 },
 "nbformat": 4,
 "nbformat_minor": 5
}
